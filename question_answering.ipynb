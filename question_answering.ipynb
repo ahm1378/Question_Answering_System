{
 "cells": [
  {
   "cell_type": "code",
   "execution_count": 1,
   "id": "ea6cfeac",
   "metadata": {},
   "outputs": [
    {
     "name": "stderr",
     "output_type": "stream",
     "text": [
      "Warning : `load_model` does not return WordVectorModel or SupervisedModel any more, but a `FastText` object which is very similar.\n"
     ]
    }
   ],
   "source": [
    "import fasttext.util\n",
    "\n",
    "\n",
    "ft = fasttext.load_model('cc.fa.300.bin')"
   ]
  },
  {
   "cell_type": "code",
   "execution_count": 859,
   "id": "50363c12",
   "metadata": {},
   "outputs": [],
   "source": [
    "with open('stopwords.txt',encoding=\"utf8\") as stopwords_file:\n",
    "    stopwords = stopwords_file.readlines()\n",
    "stopwords = [line.replace('\\n', '') for line in stopwords]"
   ]
  },
  {
   "cell_type": "code",
   "execution_count": 860,
   "id": "71bb2bc5",
   "metadata": {},
   "outputs": [],
   "source": [
    "import hazm\n",
    "stemmer = hazm.Stemmer()\n",
    "from hazm import word_tokenize\n",
    "import pandas as pd"
   ]
  },
  {
   "cell_type": "code",
   "execution_count": 861,
   "id": "28343760",
   "metadata": {},
   "outputs": [
    {
     "data": {
      "text/html": [
       "<div>\n",
       "<style scoped>\n",
       "    .dataframe tbody tr th:only-of-type {\n",
       "        vertical-align: middle;\n",
       "    }\n",
       "\n",
       "    .dataframe tbody tr th {\n",
       "        vertical-align: top;\n",
       "    }\n",
       "\n",
       "    .dataframe thead th {\n",
       "        text-align: right;\n",
       "    }\n",
       "</style>\n",
       "<table border=\"1\" class=\"dataframe\">\n",
       "  <thead>\n",
       "    <tr style=\"text-align: right;\">\n",
       "      <th></th>\n",
       "      <th>question</th>\n",
       "      <th>answer</th>\n",
       "      <th>category</th>\n",
       "    </tr>\n",
       "  </thead>\n",
       "  <tbody>\n",
       "    <tr>\n",
       "      <th>1</th>\n",
       "      <td>چگونه میتوانم یک پروفایل ایجاد کنم؟</td>\n",
       "      <td>در وب سایت روی گزینه \"ورود ثبت نام\" کلیک کنید....</td>\n",
       "      <td>ورود و ثبت‌نام</td>\n",
       "    </tr>\n",
       "    <tr>\n",
       "      <th>2</th>\n",
       "      <td>چطور میتوانم مشخصات کاربری و ایمیل خود را ویرا...</td>\n",
       "      <td>با وارد کردن ایمیل (یا شماره ی همراه ) وارد حس...</td>\n",
       "      <td>ورود و ثبت‌نام</td>\n",
       "    </tr>\n",
       "    <tr>\n",
       "      <th>3</th>\n",
       "      <td>می‏‌توانم سفارشم را تلفنی ثبت کنم؟</td>\n",
       "      <td>خیر، امکان ثبت سفارش بصورت تلفنی امکان پذیر ن...</td>\n",
       "      <td>ورود و ثبت‌نام</td>\n",
       "    </tr>\n",
       "    <tr>\n",
       "      <th>4</th>\n",
       "      <td>برای خرید از دیجی‌کالا، حتما باید در سایت عضو ...</td>\n",
       "      <td>بله. قبل از خرید میبایست از طریق شماره موبایل ...</td>\n",
       "      <td>ورود و ثبت‌نام</td>\n",
       "    </tr>\n",
       "    <tr>\n",
       "      <th>5</th>\n",
       "      <td>من دو حساب کاربری در دیجی‌کالا دارم، آیا می‌تو...</td>\n",
       "      <td>بله، شما می‌توانید حساب‌های کاربری خود را در د...</td>\n",
       "      <td>ورود و ثبت‌نام</td>\n",
       "    </tr>\n",
       "    <tr>\n",
       "      <th>...</th>\n",
       "      <td>...</td>\n",
       "      <td>...</td>\n",
       "      <td>...</td>\n",
       "    </tr>\n",
       "    <tr>\n",
       "      <th>62</th>\n",
       "      <td>اگر در بازه زمانی انتخابی، در محل برای دریافت ...</td>\n",
       "      <td>در صورت امکان هماهنگی لازم جهت ارسال مجدد صورت...</td>\n",
       "      <td>سوپرمارکت</td>\n",
       "    </tr>\n",
       "    <tr>\n",
       "      <th>63</th>\n",
       "      <td>چطور میتوانم سفارش کالای سوپر مارکتی خود را پس...</td>\n",
       "      <td>مرجوع نمودن سلیقه ای اقلام سوپرمارکتی بعد از ت...</td>\n",
       "      <td>سوپرمارکت</td>\n",
       "    </tr>\n",
       "    <tr>\n",
       "      <th>64</th>\n",
       "      <td>چطور میتوانم سفارش سوپرمارکتی خود را لغو کنم ؟</td>\n",
       "      <td>شما میتوانید تا پیش از مرحله \"دریافت در مرکز ت...</td>\n",
       "      <td>سوپرمارکت</td>\n",
       "    </tr>\n",
       "    <tr>\n",
       "      <th>65</th>\n",
       "      <td>چطور میتوانم سفارش سوپرمارکتی خود را ویرایش کنم؟</td>\n",
       "      <td>شما میتوانید تا پیش از مرحله \"آماده سازی سفارش...</td>\n",
       "      <td>سوپرمارکت</td>\n",
       "    </tr>\n",
       "    <tr>\n",
       "      <th>66</th>\n",
       "      <td>آیا کالاهای سوپر مارکتی در سرتاسر ایران ارسال ...</td>\n",
       "      <td>تمام کالاهای سوپر مارکتی ارسال خواهد شد بجز کا...</td>\n",
       "      <td>سوپرمارکت</td>\n",
       "    </tr>\n",
       "  </tbody>\n",
       "</table>\n",
       "<p>66 rows × 3 columns</p>\n",
       "</div>"
      ],
      "text/plain": [
       "                                             question  \\\n",
       "1                 چگونه میتوانم یک پروفایل ایجاد کنم؟   \n",
       "2   چطور میتوانم مشخصات کاربری و ایمیل خود را ویرا...   \n",
       "3                  می‏‌توانم سفارشم را تلفنی ثبت کنم؟   \n",
       "4   برای خرید از دیجی‌کالا، حتما باید در سایت عضو ...   \n",
       "5   من دو حساب کاربری در دیجی‌کالا دارم، آیا می‌تو...   \n",
       "..                                                ...   \n",
       "62  اگر در بازه زمانی انتخابی، در محل برای دریافت ...   \n",
       "63  چطور میتوانم سفارش کالای سوپر مارکتی خود را پس...   \n",
       "64     چطور میتوانم سفارش سوپرمارکتی خود را لغو کنم ؟   \n",
       "65   چطور میتوانم سفارش سوپرمارکتی خود را ویرایش کنم؟   \n",
       "66  آیا کالاهای سوپر مارکتی در سرتاسر ایران ارسال ...   \n",
       "\n",
       "                                               answer        category  \n",
       "1   در وب سایت روی گزینه \"ورود ثبت نام\" کلیک کنید....  ورود و ثبت‌نام  \n",
       "2   با وارد کردن ایمیل (یا شماره ی همراه ) وارد حس...  ورود و ثبت‌نام  \n",
       "3    خیر، امکان ثبت سفارش بصورت تلفنی امکان پذیر ن...  ورود و ثبت‌نام  \n",
       "4   بله. قبل از خرید میبایست از طریق شماره موبایل ...  ورود و ثبت‌نام  \n",
       "5   بله، شما می‌توانید حساب‌های کاربری خود را در د...  ورود و ثبت‌نام  \n",
       "..                                                ...             ...  \n",
       "62  در صورت امکان هماهنگی لازم جهت ارسال مجدد صورت...       سوپرمارکت  \n",
       "63  مرجوع نمودن سلیقه ای اقلام سوپرمارکتی بعد از ت...       سوپرمارکت  \n",
       "64  شما میتوانید تا پیش از مرحله \"دریافت در مرکز ت...       سوپرمارکت  \n",
       "65  شما میتوانید تا پیش از مرحله \"آماده سازی سفارش...       سوپرمارکت  \n",
       "66  تمام کالاهای سوپر مارکتی ارسال خواهد شد بجز کا...       سوپرمارکت  \n",
       "\n",
       "[66 rows x 3 columns]"
      ]
     },
     "execution_count": 861,
     "metadata": {},
     "output_type": "execute_result"
    }
   ],
   "source": [
    "data = pd.read_csv('data.csv',names=['question','answer','category'])\n",
    "data = data.drop(0)\n",
    "data"
   ]
  },
  {
   "cell_type": "code",
   "execution_count": 862,
   "id": "7f1deaf3",
   "metadata": {},
   "outputs": [],
   "source": [
    "lem = hazm.Lemmatizer()\n",
    "dataset = pd.DataFrame(columns=('question','answer', 'category'))\n",
    "for index, row in data.iterrows():\n",
    "    title_body = row['question']\n",
    "    title_body_tokenized = word_tokenize(title_body)\n",
    "    title_body_tokenized_filtered = [w for w in title_body_tokenized if not w in stopwords]\n",
    "    title_body_tokenized_filtered_stemmed = [stemmer.stem(w) for w in title_body_tokenized_filtered]\n",
    "    title_body_tokenized_filtered_lem = [lem.lemmatize(w).replace('#', ' ') for w in title_body_tokenized_filtered]\n",
    "    dataset.loc[index] = {\n",
    "        'question':  ' ' .join(title_body_tokenized_filtered_lem),\n",
    "        'category': row['category'].replace('\\n', ''),\n",
    "        'answer': row['answer'].replace('\\n', '')\n",
    "    }"
   ]
  },
  {
   "cell_type": "code",
   "execution_count": 865,
   "id": "d2ea9ff2",
   "metadata": {},
   "outputs": [
    {
     "name": "stderr",
     "output_type": "stream",
     "text": [
      "Some weights of the model checkpoint at bert-base-cased were not used when initializing BertModel: ['cls.seq_relationship.weight', 'cls.predictions.decoder.weight', 'cls.predictions.transform.dense.bias', 'cls.predictions.transform.LayerNorm.bias', 'cls.predictions.transform.dense.weight', 'cls.predictions.bias', 'cls.predictions.transform.LayerNorm.weight', 'cls.seq_relationship.bias']\n",
      "- This IS expected if you are initializing BertModel from the checkpoint of a model trained on another task or with another architecture (e.g. initializing a BertForSequenceClassification model from a BertForPreTraining model).\n",
      "- This IS NOT expected if you are initializing BertModel from the checkpoint of a model that you expect to be exactly identical (initializing a BertForSequenceClassification model from a BertForSequenceClassification model).\n"
     ]
    }
   ],
   "source": [
    "from transformers import BertModel, BertTokenizer\n",
    "model = BertModel.from_pretrained(\"bert-base-cased\").to(device)\n",
    "tokenizer = BertTokenizer.from_pretrained(\"bert-base-cased\")"
   ]
  },
  {
   "cell_type": "code",
   "execution_count": 866,
   "id": "6fbdd018",
   "metadata": {},
   "outputs": [],
   "source": [
    "def embed_bert(prompt):\n",
    "    encoded_input = tokenizer(prompt, return_tensors='pt', padding=True, truncation=True).to(device)\n",
    "    X = model(**encoded_input)\n",
    "    return X.last_hidden_state[:, 0, :]"
   ]
  },
  {
   "cell_type": "code",
   "execution_count": 867,
   "id": "fe4eab66",
   "metadata": {},
   "outputs": [],
   "source": [
    "embedding_bert_df = pd.DataFrame(index=dataset.index, columns = range(768))\n",
    "for i in range(len(dataset)):\n",
    "    embedding_bert_df.loc[dataset.index[i], :] = embed_bert(dataset.question.values[i]).cpu().detach()"
   ]
  },
  {
   "cell_type": "code",
   "execution_count": 868,
   "id": "b4e54f9c",
   "metadata": {},
   "outputs": [],
   "source": [
    "def embed_fastxt(prompt):\n",
    "    return ft.get_sentence_vector(prompt)\n",
    "\n",
    "    \n",
    "    \n"
   ]
  },
  {
   "cell_type": "code",
   "execution_count": 869,
   "id": "03702dda",
   "metadata": {},
   "outputs": [],
   "source": [
    "embedding_df = pd.DataFrame(index=dataset.index, columns = range(300))\n",
    "for i in range(len(dataset)):\n",
    "    embedding_df.loc[dataset.index[i], :] = embed_fastxt(dataset.question.values[i])"
   ]
  },
  {
   "cell_type": "code",
   "execution_count": 870,
   "id": "3b5eb128",
   "metadata": {},
   "outputs": [],
   "source": [
    "from sklearn.feature_extraction.text import CountVectorizer\n",
    "def bag_of_words_df(data):\n",
    "    vectorizer = CountVectorizer()\n",
    "    vectorizer.fit(data)\n",
    "\n",
    "    embedding_bag = vectorizer.transform(data)\n",
    "\n",
    "    embedding_bag_df = pd.DataFrame(embedding_bag.toarray(), columns=vectorizer.get_feature_names_out())\n",
    "    return embedding_bag_df"
   ]
  },
  {
   "cell_type": "code",
   "execution_count": 871,
   "id": "75902c8c",
   "metadata": {},
   "outputs": [],
   "source": [
    "from gensim.models import Word2Vec\n",
    "\n",
    "def word_2_vec_model_cerate(X):\n",
    "    se = data['question']\n",
    "    sentences = [word_tokenize(sentence) for sentence in X]\n",
    "    w2v_model = Word2Vec(sentences, window=5, min_count=5, workers=4)\n",
    "    return w2v_model\n",
    "\n",
    "def word2_vec_embeded(w2v_model,sentence):\n",
    "    words = word_tokenize(sentence)\n",
    "    words_vecs = [w2v_model.wv[word] for word in words if word in w2v_model.wv]\n",
    "    if len(words_vecs) == 0:\n",
    "        return np.zeros(100)\n",
    "    words_vecs = np.array(words_vecs)\n",
    "    return words_vecs.mean(axis=0)\n",
    "\n",
    "X = dataset['question'].values\n",
    "w2v_model = word_2_vec_model_cerate(X)\n",
    "embedding_word2vec_df = pd.DataFrame(index=dataset.index, columns = range(100))\n",
    "for i in range(len(dataset)):\n",
    "    embedding_word2vec_df.loc[dataset.index[i], :] = word2_vec_embeded(w2v_model,dataset.question.values[i])"
   ]
  },
  {
   "cell_type": "code",
   "execution_count": 872,
   "id": "a0875e3f",
   "metadata": {},
   "outputs": [],
   "source": [
    "with open('wrod_meaning.json', 'r', encoding='utf-8') as file:\n",
    "    meanings = json.load(file)\n",
    "    "
   ]
  },
  {
   "cell_type": "code",
   "execution_count": 873,
   "id": "350c91b7",
   "metadata": {},
   "outputs": [],
   "source": [
    "def find_text_similarity_fasstext(sentence,typo):\n",
    "    title_body = sentence\n",
    "    title_body_tokenized = word_tokenize(title_body)\n",
    "    title_body_tokenized_filtered = [w for w in title_body_tokenized if not w in stopwords]\n",
    "    title_body_tokenized_filtered_stemmed = [stemmer.stem(w) for w in title_body_tokenized_filtered]\n",
    "    title_body_tokenized_filtered_lem = [lem.lemmatize(w).replace('#', ' ') for w in title_body_tokenized_filtered]\n",
    "    w=' '.join(title_body_tokenized_filtered_stemmed)\n",
    "    if typo == \"fasstext\":   \n",
    "        embedding_s = embed_fastxt(w)\n",
    "        embeddings_array = embedding_df.to_numpy()\n",
    "        embedding_s = embedding_s.reshape(1, -1)\n",
    "    if typo == \"w2v\":\n",
    "        embedding_s = word2_vec_embeded(w2v_model,w)\n",
    "        embeddings_array = embedding_word2vec_df.to_numpy()\n",
    "        embedding_s = embedding_s.reshape(1, -1)\n",
    "    if typo == \"bert\":\n",
    "        embedding_s = embed_bert(w)\n",
    "        embeddings_array = embedding_bert_df.to_numpy()\n",
    "        embedding_s = embedding_s.cpu().detach()\n",
    "        embedding_s = embedding_s.reshape(1, -1)\n",
    "\n",
    "        \n",
    "    cos_sim_scores = cosine_similarity(embedding_s , embeddings_array)\n",
    "    most_similar_index = np.argmax(cos_sim_scores)\n",
    "    most_similar_row = dataset.iloc[most_similar_index]\n",
    "    return most_similar_row['answer']\n"
   ]
  },
  {
   "cell_type": "code",
   "execution_count": 874,
   "id": "69ccce75",
   "metadata": {},
   "outputs": [],
   "source": [
    "tested_question_answer = {'question':[],'answer_bert':[],'answer_fasstext':[] , 'asnwer_w2vec':[]}"
   ]
  },
  {
   "cell_type": "code",
   "execution_count": 875,
   "id": "7c6644ff",
   "metadata": {},
   "outputs": [],
   "source": [
    "tested_df = pd.read_csv('tested.csv')"
   ]
  },
  {
   "cell_type": "code",
   "execution_count": 876,
   "id": "d6f2b125",
   "metadata": {},
   "outputs": [
    {
     "data": {
      "text/html": [
       "<div>\n",
       "<style scoped>\n",
       "    .dataframe tbody tr th:only-of-type {\n",
       "        vertical-align: middle;\n",
       "    }\n",
       "\n",
       "    .dataframe tbody tr th {\n",
       "        vertical-align: top;\n",
       "    }\n",
       "\n",
       "    .dataframe thead th {\n",
       "        text-align: right;\n",
       "    }\n",
       "</style>\n",
       "<table border=\"1\" class=\"dataframe\">\n",
       "  <thead>\n",
       "    <tr style=\"text-align: right;\">\n",
       "      <th></th>\n",
       "      <th>tested_question</th>\n",
       "    </tr>\n",
       "  </thead>\n",
       "  <tbody>\n",
       "    <tr>\n",
       "      <th>0</th>\n",
       "      <td>شماره کارتمو چجوری وارد کنم</td>\n",
       "    </tr>\n",
       "    <tr>\n",
       "      <th>1</th>\n",
       "      <td>چگونه میشه خرید رو مرجوع کرد</td>\n",
       "    </tr>\n",
       "    <tr>\n",
       "      <th>2</th>\n",
       "      <td>چطور به حسابم پول بریزم</td>\n",
       "    </tr>\n",
       "    <tr>\n",
       "      <th>3</th>\n",
       "      <td>چطوری تلفنی باید سفارش بدم</td>\n",
       "    </tr>\n",
       "    <tr>\n",
       "      <th>4</th>\n",
       "      <td>پیگیری سفارش به چه صورت است</td>\n",
       "    </tr>\n",
       "    <tr>\n",
       "      <th>5</th>\n",
       "      <td>فعال کردن گارانتی به چه صورت است</td>\n",
       "    </tr>\n",
       "    <tr>\n",
       "      <th>6</th>\n",
       "      <td>چگونه خریدم را لغو کنم</td>\n",
       "    </tr>\n",
       "    <tr>\n",
       "      <th>7</th>\n",
       "      <td>هزینه ارسال سفارش با فروشنده چقدر است</td>\n",
       "    </tr>\n",
       "    <tr>\n",
       "      <th>8</th>\n",
       "      <td>میخوام سفارش سوپرمارکتی رو لغو کنم باید چیکار کنم</td>\n",
       "    </tr>\n",
       "  </tbody>\n",
       "</table>\n",
       "</div>"
      ],
      "text/plain": [
       "                                     tested_question\n",
       "0                        شماره کارتمو چجوری وارد کنم\n",
       "1                       چگونه میشه خرید رو مرجوع کرد\n",
       "2                            چطور به حسابم پول بریزم\n",
       "3                         چطوری تلفنی باید سفارش بدم\n",
       "4                        پیگیری سفارش به چه صورت است\n",
       "5                   فعال کردن گارانتی به چه صورت است\n",
       "6                             چگونه خریدم را لغو کنم\n",
       "7              هزینه ارسال سفارش با فروشنده چقدر است\n",
       "8  میخوام سفارش سوپرمارکتی رو لغو کنم باید چیکار کنم"
      ]
     },
     "execution_count": 876,
     "metadata": {},
     "output_type": "execute_result"
    }
   ],
   "source": [
    "tested_df.head(10)"
   ]
  },
  {
   "cell_type": "code",
   "execution_count": 882,
   "id": "fc532471",
   "metadata": {},
   "outputs": [],
   "source": [
    "tested_df = pd.read_csv('tested.csv')\n",
    "for sens in test_sens:\n",
    "    tested_question_answer['question'].append(sens)\n",
    "    x=find_text_similarity_fasstext(sens,'bert')\n",
    "    tested_question_answer['answer_bert'].append(x)\n",
    "    y=find_text_similarity_fasstext(sens,'fasstext')\n",
    "    tested_question_answer['answer_fasstext'].append(y)\n",
    "    z=find_text_similarity_fasstext(sens,'w2v')\n",
    "    tested_question_answer['asnwer_w2vec'].append(z)"
   ]
  },
  {
   "cell_type": "code",
   "execution_count": 878,
   "id": "dd57dce7",
   "metadata": {},
   "outputs": [],
   "source": [
    "for sens in test_sens:\n",
    "    tested_question_answer['question'].append(sens)\n",
    "    x=find_text_similarity_fasstext(sens,'bert')\n",
    "    tested_question_answer['answer_bert'].append(x)\n",
    "    y=find_text_similarity_fasstext(sens,'fasstext')\n",
    "    tested_question_answer['answer_fasstext'].append(y)\n",
    "    z=find_text_similarity_fasstext(sens,'w2v')\n",
    "    tested_question_answer['asnwer_w2vec'].append(z)"
   ]
  },
  {
   "cell_type": "code",
   "execution_count": 879,
   "id": "9ab9319a",
   "metadata": {},
   "outputs": [],
   "source": [
    "def meaning_function(word, top_k=10):\n",
    "    similar_words = meanings[word]\n",
    "    return similar_words[0][1],similar_words[1][1]"
   ]
  },
  {
   "cell_type": "code",
   "execution_count": 880,
   "id": "1d651630",
   "metadata": {},
   "outputs": [],
   "source": [
    "import itertools\n",
    "import random\n",
    "def generate_sentences(sentence):\n",
    "    words = word_tokenize(sentence)\n",
    "    word_meanings = []\n",
    "    word_meanings_2  = []\n",
    "    sentences = []\n",
    "\n",
    "    # Get the meanings for each word\n",
    "    for word in words:\n",
    "        word_meanings.append(meaning_function(word)[0])\n",
    "        word_meanings_2.append(meaning_function(word)[1])\n",
    "    \n",
    "    for i in range(100):\n",
    "        word_sens = []\n",
    "        for j in range(len(words)):\n",
    "            x=random.uniform(0, 1)\n",
    "            if x<=0.33:\n",
    "                word_sens.append(words[j])\n",
    "            elif x>0.33 and x<=0.66:\n",
    "                word_sens.append(word_meanings[j])\n",
    "            else:\n",
    "                word_sens.append(word_meanings_2[j])\n",
    "        final_s = ' '.join(word_sens)\n",
    "        sentences.append(final_s)    \n",
    "        \n",
    "\n",
    "    return sentences"
   ]
  },
  {
   "cell_type": "code",
   "execution_count": 661,
   "id": "1c7fdd83",
   "metadata": {},
   "outputs": [],
   "source": [
    "setences = dataset['question'].values\n",
    "response = dataset['answer'].values\n",
    "cat = dataset['category'].values"
   ]
  },
  {
   "cell_type": "markdown",
   "id": "01cfa065",
   "metadata": {},
   "source": [
    "نیاز با اجرای دو سلول پایین نمی باشد زیرا صرفا برای افزایش دیتا می باشند"
   ]
  },
  {
   "cell_type": "code",
   "execution_count": 663,
   "id": "aed0e67d",
   "metadata": {},
   "outputs": [],
   "source": [
    "final_dict = {'question':[],'answer':[],'category':[]}"
   ]
  },
  {
   "cell_type": "code",
   "execution_count": null,
   "id": "cf65e924",
   "metadata": {},
   "outputs": [],
   "source": [
    "for q in range(len(setences)):\n",
    "    final_dict['question'].append(setences[q])\n",
    "    final_dict['answer'].append(response[q])\n",
    "    final_dict['category'].append(cat[q])\n",
    "    generation = generate_sentences(setences[q])\n",
    "    for g in generation:\n",
    "        final_dict['question'].append(g)\n",
    "        final_dict['answer'].append(response[q])\n",
    "        final_dict['category'].append(cat[q])"
   ]
  },
  {
   "cell_type": "code",
   "execution_count": 881,
   "id": "a08dcdec",
   "metadata": {},
   "outputs": [],
   "source": [
    "tested_df = pd.read_csv('tested.csv')\n",
    "for sens in test_sens:\n",
    "    tested_question_answer['question'].append(sens)\n",
    "    x=find_text_similarity_fasstext(sens,'bert')\n",
    "    tested_question_answer['answer_bert'].append(x)\n",
    "    y=find_text_similarity_fasstext(sens,'fasstext')\n",
    "    tested_question_answer['answer_fasstext'].append(y)\n",
    "    z=find_text_similarity_fasstext(sens,'w2v')\n",
    "    tested_question_answer['asnwer_w2vec'].append(z)"
   ]
  },
  {
   "cell_type": "code",
   "execution_count": 883,
   "id": "56d31982",
   "metadata": {},
   "outputs": [
    {
     "data": {
      "text/html": [
       "<div>\n",
       "<style scoped>\n",
       "    .dataframe tbody tr th:only-of-type {\n",
       "        vertical-align: middle;\n",
       "    }\n",
       "\n",
       "    .dataframe tbody tr th {\n",
       "        vertical-align: top;\n",
       "    }\n",
       "\n",
       "    .dataframe thead th {\n",
       "        text-align: right;\n",
       "    }\n",
       "</style>\n",
       "<table border=\"1\" class=\"dataframe\">\n",
       "  <thead>\n",
       "    <tr style=\"text-align: right;\">\n",
       "      <th></th>\n",
       "      <th>Unnamed: 0</th>\n",
       "      <th>question</th>\n",
       "      <th>answer</th>\n",
       "      <th>category</th>\n",
       "    </tr>\n",
       "  </thead>\n",
       "  <tbody>\n",
       "    <tr>\n",
       "      <th>100</th>\n",
       "      <td>100</td>\n",
       "      <td>میتوان پروفایلی ایجاد</td>\n",
       "      <td>در وب سایت روی گزینه \"ورود ثبت نام\" کلیک کنید....</td>\n",
       "      <td>ورود و ثبت‌نام</td>\n",
       "    </tr>\n",
       "    <tr>\n",
       "      <th>101</th>\n",
       "      <td>101</td>\n",
       "      <td>نمیتوان پروفایلی ایجادد</td>\n",
       "      <td>در وب سایت روی گزینه \"ورود ثبت نام\" کلیک کنید....</td>\n",
       "      <td>ورود و ثبت‌نام</td>\n",
       "    </tr>\n",
       "    <tr>\n",
       "      <th>102</th>\n",
       "      <td>102</td>\n",
       "      <td>نمیتوان پروفایلپروفایل ايجاد</td>\n",
       "      <td>در وب سایت روی گزینه \"ورود ثبت نام\" کلیک کنید....</td>\n",
       "      <td>ورود و ثبت‌نام</td>\n",
       "    </tr>\n",
       "    <tr>\n",
       "      <th>103</th>\n",
       "      <td>103</td>\n",
       "      <td>ميتوان پروفایل ایجادد</td>\n",
       "      <td>در وب سایت روی گزینه \"ورود ثبت نام\" کلیک کنید....</td>\n",
       "      <td>ورود و ثبت‌نام</td>\n",
       "    </tr>\n",
       "    <tr>\n",
       "      <th>104</th>\n",
       "      <td>104</td>\n",
       "      <td>نمیتوان پروفایلی ايجاد</td>\n",
       "      <td>در وب سایت روی گزینه \"ورود ثبت نام\" کلیک کنید....</td>\n",
       "      <td>ورود و ثبت‌نام</td>\n",
       "    </tr>\n",
       "  </tbody>\n",
       "</table>\n",
       "</div>"
      ],
      "text/plain": [
       "     Unnamed: 0                      question  \\\n",
       "100         100         میتوان پروفایلی ایجاد   \n",
       "101         101       نمیتوان پروفایلی ایجادد   \n",
       "102         102  نمیتوان پروفایلپروفایل ايجاد   \n",
       "103         103         ميتوان پروفایل ایجادد   \n",
       "104         104        نمیتوان پروفایلی ايجاد   \n",
       "\n",
       "                                                answer        category  \n",
       "100  در وب سایت روی گزینه \"ورود ثبت نام\" کلیک کنید....  ورود و ثبت‌نام  \n",
       "101  در وب سایت روی گزینه \"ورود ثبت نام\" کلیک کنید....  ورود و ثبت‌نام  \n",
       "102  در وب سایت روی گزینه \"ورود ثبت نام\" کلیک کنید....  ورود و ثبت‌نام  \n",
       "103  در وب سایت روی گزینه \"ورود ثبت نام\" کلیک کنید....  ورود و ثبت‌نام  \n",
       "104  در وب سایت روی گزینه \"ورود ثبت نام\" کلیک کنید....  ورود و ثبت‌نام  "
      ]
     },
     "execution_count": 883,
     "metadata": {},
     "output_type": "execute_result"
    }
   ],
   "source": [
    "f = pd.read_csv('file1.csv')\n",
    "f.head(101)\n",
    "f = f.drop(df.index[:100])\n",
    "f.head()"
   ]
  },
  {
   "cell_type": "code",
   "execution_count": 884,
   "id": "8f301ac9",
   "metadata": {},
   "outputs": [],
   "source": [
    "dataset_t = f"
   ]
  },
  {
   "cell_type": "code",
   "execution_count": 885,
   "id": "826e829c",
   "metadata": {},
   "outputs": [],
   "source": [
    "embedding_df_train = pd.DataFrame(index=dataset_t.index, columns = range(300))\n",
    "for i in range(len(dataset_train)):\n",
    "    embedding_df_train.loc[dataset_t.index[i], :] = embed_fastxt(dataset_t.question.values[i])"
   ]
  },
  {
   "cell_type": "code",
   "execution_count": 886,
   "id": "8e34d2d9",
   "metadata": {},
   "outputs": [],
   "source": [
    "from sklearn.preprocessing import LabelEncoder\n",
    "le = LabelEncoder()\n",
    "y = le.fit_transform(dataset_t['answer'])"
   ]
  },
  {
   "cell_type": "code",
   "execution_count": 889,
   "id": "b0be0c18",
   "metadata": {},
   "outputs": [
    {
     "data": {
      "text/plain": [
       "array([34, 34, 34, ..., 18, 18, 18])"
      ]
     },
     "execution_count": 889,
     "metadata": {},
     "output_type": "execute_result"
    }
   ],
   "source": [
    "y"
   ]
  },
  {
   "cell_type": "code",
   "execution_count": 887,
   "id": "0b78959a",
   "metadata": {},
   "outputs": [
    {
     "data": {
      "text/plain": [
       "61"
      ]
     },
     "execution_count": 887,
     "metadata": {},
     "output_type": "execute_result"
    }
   ],
   "source": [
    "tags = list(set(dataset_t['answer'].values))\n",
    "len(tags)"
   ]
  },
  {
   "cell_type": "code",
   "execution_count": 890,
   "id": "2209fd4b",
   "metadata": {},
   "outputs": [],
   "source": [
    "X = embedding_df_train.to_numpy()"
   ]
  },
  {
   "cell_type": "code",
   "execution_count": 891,
   "id": "176987b5",
   "metadata": {},
   "outputs": [],
   "source": [
    "from imblearn.combine import SMOTETomek\n",
    "smt = SMOTETomek()\n",
    "X_smt, y_smt = smt.fit_resample(X, y)"
   ]
  },
  {
   "cell_type": "code",
   "execution_count": 901,
   "id": "c88fee80",
   "metadata": {},
   "outputs": [
    {
     "data": {
      "text/plain": [
       "array([[ 0.06861567,  0.10363948, -0.02615903, ..., -0.01695884,\n",
       "        -0.016668  , -0.0194851 ],\n",
       "       [ 0.04514549,  0.07899803, -0.01036287, ..., -0.01626684,\n",
       "         0.00957104, -0.03043484],\n",
       "       [ 0.07237871,  0.07170174, -0.00716843, ...,  0.02033482,\n",
       "         0.0130104 , -0.01537217],\n",
       "       ...,\n",
       "       [ 0.06718965,  0.10277224, -0.04773954, ..., -0.00105892,\n",
       "         0.01287783, -0.02092995],\n",
       "       [ 0.08616668,  0.09647687, -0.0686719 , ..., -0.00260486,\n",
       "         0.01427623, -0.01297266],\n",
       "       [ 0.07742275,  0.09868739, -0.06433915, ..., -0.02200346,\n",
       "         0.01355314, -0.03006593]])"
      ]
     },
     "execution_count": 901,
     "metadata": {},
     "output_type": "execute_result"
    }
   ],
   "source": [
    "X_smt"
   ]
  },
  {
   "cell_type": "code",
   "execution_count": 902,
   "id": "01cbd1de",
   "metadata": {},
   "outputs": [],
   "source": [
    "X,y = X_smt, y_smt"
   ]
  },
  {
   "cell_type": "code",
   "execution_count": 903,
   "id": "bcd60d2e",
   "metadata": {},
   "outputs": [],
   "source": [
    "from sklearn.model_selection import train_test_split\n",
    "X_train, X_test, y_train, y_test = train_test_split(X, y,test_size=0.2)"
   ]
  },
  {
   "cell_type": "code",
   "execution_count": 904,
   "id": "15a5ab61",
   "metadata": {},
   "outputs": [
    {
     "data": {
      "text/plain": [
       "dtype('int32')"
      ]
     },
     "execution_count": 904,
     "metadata": {},
     "output_type": "execute_result"
    }
   ],
   "source": [
    "y_train.dtype"
   ]
  },
  {
   "cell_type": "code",
   "execution_count": 905,
   "id": "d5935091",
   "metadata": {},
   "outputs": [],
   "source": [
    "X_train = np.array(X_train,dtype = np.float32)"
   ]
  },
  {
   "cell_type": "code",
   "execution_count": 906,
   "id": "813f51b3",
   "metadata": {},
   "outputs": [
    {
     "data": {
      "text/plain": [
       "(array([1200., 1200., 1200., 1200., 1200., 1200., 1200., 1200., 1200.,\n",
       "        1400.]),\n",
       " array([ 0.,  6., 12., 18., 24., 30., 36., 42., 48., 54., 60.]),\n",
       " <BarContainer object of 10 artists>)"
      ]
     },
     "execution_count": 906,
     "metadata": {},
     "output_type": "execute_result"
    },
    {
     "data": {
      "image/png": "[encoded data removed]",
      "text/plain": [
       "<Figure size 432x288 with 1 Axes>"
      ]
     },
     "metadata": {
      "needs_background": "light"
     },
     "output_type": "display_data"
    }
   ],
   "source": [
    "import matplotlib.pyplot as plt\n",
    "plt.hist(y, bins=10, edgecolor='black')"
   ]
  },
  {
   "cell_type": "code",
   "execution_count": 907,
   "id": "1cb90baf",
   "metadata": {},
   "outputs": [],
   "source": [
    "import numpy as np\n",
    "import random\n",
    "import json\n",
    "\n",
    "import torch\n",
    "import torch.nn as nn\n",
    "from torch.utils.data import Dataset, DataLoader\n",
    "class ChatDataset(Dataset):\n",
    "\n",
    "    def __init__(self):\n",
    "        self.n_samples = len(X_train)\n",
    "        self.x_data = X_train\n",
    "        self.y_data = y_train\n",
    "    def __getitem__(self, index):\n",
    "        return self.x_data[index], self.y_data[index]\n",
    "\n",
    "    def __len__(self):\n",
    "        return self.n_samples"
   ]
  },
  {
   "cell_type": "code",
   "execution_count": 908,
   "id": "7da34a65",
   "metadata": {},
   "outputs": [],
   "source": [
    "import torch\n",
    "import torch.nn as nn\n",
    "\n",
    "\n",
    "class NeuralNet(nn.Module):\n",
    "    def __init__(self, input_size, hidden_size, num_classes):\n",
    "        super(NeuralNet, self).__init__()\n",
    "        self.l1 = nn.Linear(input_size, hidden_size) \n",
    "        self.l2 = nn.Linear(hidden_size, hidden_size) \n",
    "        self.l3 = nn.Linear(hidden_size, num_classes)\n",
    "        self.relu = nn.ReLU()\n",
    "    \n",
    "    def forward(self, x):\n",
    "        out = self.l1(x)\n",
    "        out = self.relu(out)\n",
    "        out = self.l2(out)\n",
    "        out = self.relu(out)\n",
    "        out = self.l3(out)\n",
    "        return out"
   ]
  },
  {
   "cell_type": "code",
   "execution_count": 909,
   "id": "ba476e09",
   "metadata": {},
   "outputs": [
    {
     "name": "stdout",
     "output_type": "stream",
     "text": [
      "300 61\n"
     ]
    }
   ],
   "source": [
    "num_epochs = 200\n",
    "batch_size = 100\n",
    "learning_rate = 0.001\n",
    "input_size =  len(X_train[0])\n",
    "hidden_size = 128\n",
    "output_size = len(tags)\n",
    "dataset_chat = ChatDataset()\n",
    "print(input_size,output_size)\n",
    "\n",
    "train_loader = DataLoader(dataset=dataset_chat,\n",
    "                          batch_size=batch_size,\n",
    "                          shuffle=True,\n",
    "                          num_workers=0)\n",
    "device = torch.device('cuda' if torch.cuda.is_available() else 'cpu')\n",
    "\n",
    "model = NeuralNet(input_size, hidden_size, output_size).to(device)\n",
    "criterion = nn.CrossEntropyLoss()\n",
    "optimizer = torch.optim.Adam(model.parameters(), lr=learning_rate)"
   ]
  },
  {
   "cell_type": "code",
   "execution_count": 910,
   "id": "bf9cf196",
   "metadata": {},
   "outputs": [
    {
     "name": "stdout",
     "output_type": "stream",
     "text": [
      "Epoch [2/200], Loss: 0.6367280483\n",
      "Epoch [4/200], Loss: 0.0551602989\n",
      "Epoch [6/200], Loss: 0.0123455338\n",
      "Epoch [8/200], Loss: 0.0078144381\n",
      "Epoch [10/200], Loss: 0.0041120476\n",
      "Epoch [12/200], Loss: 0.0026954210\n",
      "Epoch [14/200], Loss: 0.0021269999\n",
      "Epoch [16/200], Loss: 0.0014219830\n",
      "Epoch [18/200], Loss: 0.0011206240\n",
      "Epoch [20/200], Loss: 0.0007176073\n",
      "Epoch [22/200], Loss: 0.0004787581\n",
      "Epoch [24/200], Loss: 0.0005571804\n",
      "Epoch [26/200], Loss: 0.0003788203\n",
      "Epoch [28/200], Loss: 0.0002887622\n",
      "Epoch [30/200], Loss: 0.0003263674\n",
      "Epoch [32/200], Loss: 0.0001332481\n",
      "Epoch [34/200], Loss: 0.0002045576\n",
      "Epoch [36/200], Loss: 0.0001677503\n",
      "Epoch [38/200], Loss: 0.0001549833\n",
      "Epoch [40/200], Loss: 0.0001139997\n",
      "Epoch [42/200], Loss: 0.0001059062\n",
      "Epoch [44/200], Loss: 0.0000921896\n",
      "Epoch [46/200], Loss: 0.0000755167\n",
      "Epoch [48/200], Loss: 0.0000579805\n",
      "Epoch [50/200], Loss: 0.0000593753\n",
      "Epoch [52/200], Loss: 0.0000573555\n",
      "Epoch [54/200], Loss: 0.0000454878\n",
      "Epoch [56/200], Loss: 0.0000539381\n",
      "Epoch [58/200], Loss: 0.0000270916\n",
      "Epoch [60/200], Loss: 0.0000278939\n",
      "Epoch [62/200], Loss: 0.0000295330\n",
      "Epoch [64/200], Loss: 0.0000228101\n",
      "Epoch [66/200], Loss: 0.0000265762\n",
      "Epoch [68/200], Loss: 0.0000222598\n",
      "Epoch [70/200], Loss: 0.0000149585\n",
      "Epoch [72/200], Loss: 0.0000157531\n",
      "Epoch [74/200], Loss: 0.0000149008\n",
      "Epoch [76/200], Loss: 0.0000129420\n",
      "Epoch [78/200], Loss: 0.0000167484\n",
      "Epoch [80/200], Loss: 0.0000124173\n",
      "Epoch [82/200], Loss: 0.0000086346\n",
      "Epoch [84/200], Loss: 0.0000064154\n",
      "Epoch [86/200], Loss: 0.0000100909\n",
      "Epoch [88/200], Loss: 0.0000055949\n",
      "Epoch [90/200], Loss: 0.0000040571\n",
      "Epoch [92/200], Loss: 0.0000045617\n",
      "Epoch [94/200], Loss: 0.0000035981\n",
      "Epoch [96/200], Loss: 0.0000050127\n",
      "Epoch [98/200], Loss: 0.0000037928\n",
      "Epoch [100/200], Loss: 0.0000021060\n",
      "Epoch [102/200], Loss: 0.0000032941\n",
      "Epoch [104/200], Loss: 0.0000030259\n",
      "Epoch [106/200], Loss: 0.0000029584\n",
      "Epoch [108/200], Loss: 0.0000022590\n",
      "Epoch [110/200], Loss: 0.0000015517\n",
      "Epoch [112/200], Loss: 0.0000008682\n",
      "Epoch [114/200], Loss: 0.0000013411\n",
      "Epoch [116/200], Loss: 0.0000012894\n",
      "Epoch [118/200], Loss: 0.0000013729\n",
      "Epoch [120/200], Loss: 0.0000009398\n",
      "Epoch [122/200], Loss: 0.0000010073\n",
      "Epoch [124/200], Loss: 0.0000007172\n",
      "Epoch [126/200], Loss: 0.0000006378\n",
      "Epoch [128/200], Loss: 0.0000008762\n",
      "Epoch [130/200], Loss: 0.0000007033\n",
      "Epoch [132/200], Loss: 0.0000005325\n",
      "Epoch [134/200], Loss: 0.0000005921\n",
      "Epoch [136/200], Loss: 0.0000005702\n",
      "Epoch [138/200], Loss: 0.0000004013\n",
      "Epoch [140/200], Loss: 0.0000003874\n",
      "Epoch [142/200], Loss: 0.0000004371\n",
      "Epoch [144/200], Loss: 0.0000002662\n",
      "Epoch [146/200], Loss: 0.0000002543\n",
      "Epoch [148/200], Loss: 0.0000002424\n",
      "Epoch [150/200], Loss: 0.0000002285\n",
      "Epoch [152/200], Loss: 0.0000001152\n",
      "Epoch [154/200], Loss: 0.0000001431\n",
      "Epoch [156/200], Loss: 0.0000001351\n",
      "Epoch [158/200], Loss: 0.0000001868\n",
      "Epoch [160/200], Loss: 0.0000001570\n",
      "Epoch [162/200], Loss: 0.0000000834\n",
      "Epoch [164/200], Loss: 0.0000000815\n",
      "Epoch [166/200], Loss: 0.0000000993\n",
      "Epoch [168/200], Loss: 0.0000000517\n",
      "Epoch [170/200], Loss: 0.0000000656\n",
      "Epoch [172/200], Loss: 0.0000000755\n",
      "Epoch [174/200], Loss: 0.0000000437\n",
      "Epoch [176/200], Loss: 0.0000000695\n",
      "Epoch [178/200], Loss: 0.0000000497\n",
      "Epoch [180/200], Loss: 0.0000000437\n",
      "Epoch [182/200], Loss: 0.0000000894\n",
      "Epoch [184/200], Loss: 0.0000000636\n",
      "Epoch [186/200], Loss: 0.0000000477\n",
      "Epoch [188/200], Loss: 0.0000000457\n",
      "Epoch [190/200], Loss: 0.0000000437\n",
      "Epoch [192/200], Loss: 0.0000000656\n",
      "Epoch [194/200], Loss: 0.0000000338\n",
      "Epoch [196/200], Loss: 0.0000000278\n",
      "Epoch [198/200], Loss: 0.0000000199\n",
      "Epoch [200/200], Loss: 0.0000000536\n"
     ]
    }
   ],
   "source": [
    "for epoch in range(num_epochs):\n",
    "    for (words, labels) in train_loader:\n",
    "        words = words.to(device)\n",
    "        labels = labels.to(dtype=torch.long).to(device)\n",
    "        outputs = model(words)\n",
    "        loss = criterion(outputs, labels)\n",
    "        optimizer.zero_grad()\n",
    "        loss.backward()\n",
    "        optimizer.step()\n",
    "        \n",
    "    if (epoch+1) % 2 == 0:\n",
    "        print (f'Epoch [{epoch+1}/{num_epochs}], Loss: {loss.item():.10f}')"
   ]
  },
  {
   "cell_type": "code",
   "execution_count": 843,
   "id": "d4a05a90",
   "metadata": {},
   "outputs": [],
   "source": [
    "X_test = np.array(X_test,dtype = np.float32)"
   ]
  },
  {
   "cell_type": "code",
   "execution_count": 845,
   "id": "e99ee900",
   "metadata": {},
   "outputs": [
    {
     "data": {
      "text/plain": [
       "tensor(3.0474e-06, grad_fn=<NllLossBackward0>)"
      ]
     },
     "execution_count": 845,
     "metadata": {},
     "output_type": "execute_result"
    }
   ],
   "source": [
    "words = torch.from_numpy(X_test)\n",
    "labels = torch.from_numpy(y_test).to(dtype=torch.long)\n",
    "outputs = model(words)\n",
    "\n",
    "loss = criterion(outputs, labels)\n",
    "loss"
   ]
  },
  {
   "cell_type": "code",
   "execution_count": 846,
   "id": "90880636",
   "metadata": {},
   "outputs": [],
   "source": [
    "data = {\n",
    "\"model_state\": model.state_dict(),\n",
    "\"input_size\": input_size,\n",
    "\"hidden_size\": hidden_size,\n",
    "\"output_size\": output_size,\n",
    "\"tags\": tags\n",
    "}"
   ]
  },
  {
   "cell_type": "code",
   "execution_count": 847,
   "id": "6e270fa9",
   "metadata": {},
   "outputs": [
    {
     "name": "stdout",
     "output_type": "stream",
     "text": [
      "training complete. file saved to data_final.pth\n"
     ]
    }
   ],
   "source": [
    "FILE = \"data_final.pth\"\n",
    "torch.save(data, FILE)\n",
    "\n",
    "print(f'training complete. file saved to {FILE}')"
   ]
  },
  {
   "cell_type": "code",
   "execution_count": 850,
   "id": "d663e5a2",
   "metadata": {},
   "outputs": [],
   "source": [
    "def res(w):\n",
    "    FILE = \"data_final.pth\"\n",
    "    data = torch.load(FILE)\n",
    "\n",
    "    input_size = data[\"input_size\"]\n",
    "    hidden_size = data[\"hidden_size\"]\n",
    "    output_size = data[\"output_size\"]\n",
    "    tags = data['tags']\n",
    "    model_state = data[\"model_state\"]\n",
    "\n",
    "    model = NeuralNet(input_size, hidden_size, output_size).to(device)\n",
    "    model.load_state_dict(model_state)\n",
    "    model.eval()\n",
    "    title_body = w\n",
    "    title_body_tokenized = word_tokenize(title_body)\n",
    "\n",
    "    title_body_tokenized_filtered = [w for w in title_body_tokenized if not w in stopwords]\n",
    "    title_body_tokenized_filtered_stemmed = [stemmer.stem(w) for w in title_body_tokenized_filtered]\n",
    "    title_body_tokenized_filtered_lem = [lem.lemmatize(w).replace('#', ' ') for w in title_body_tokenized_filtered]\n",
    "    w=' '.join(title_body_tokenized_filtered_stemmed)\n",
    "    X = embed_fastxt(sentence)\n",
    "    X = torch.from_numpy(X).to(device)\n",
    "    X = X.reshape(1, X.shape[0])\n",
    "    output = model(X)\n",
    "    _, predicted= torch.max(output, dim=1)\n",
    "    inde = predicted.item()\n",
    "    return tags[inde]\n",
    "    \n",
    "    "
   ]
  },
  {
   "cell_type": "code",
   "execution_count": 911,
   "id": "604fbec3",
   "metadata": {},
   "outputs": [],
   "source": [
    "\n",
    "def Response(question):\n",
    "    y=find_text_similarity_fasstext(question,'fasstext')\n",
    "    return y\n",
    "    "
   ]
  },
  {
   "cell_type": "code",
   "execution_count": 912,
   "id": "8a106f7a",
   "metadata": {},
   "outputs": [
    {
     "data": {
      "text/plain": [
       "'شما میتوانید تا پیش از مرحله \"دریافت در مرکز توزیع\"، ازطریق صفحه  سفارش های من و یا تماس تلفنی سفارش خود را لغو نمایید. لطفا در صورت نیاز به تماس تلفنی، شماره سفارش خود را قبل از تماس آماده نمایید.'"
      ]
     },
     "execution_count": 912,
     "metadata": {},
     "output_type": "execute_result"
    }
   ],
   "source": [
    "Response('چگونه خریدم را لغو کنم')"
   ]
  },
  {
   "cell_type": "code",
   "execution_count": null,
   "id": "01026741",
   "metadata": {},
   "outputs": [],
   "source": []
  }
 ],
 "metadata": {
  "kernelspec": {
   "display_name": "Python 3 (ipykernel)",
   "language": "python",
   "name": "python3"
  },
  "language_info": {
   "codemirror_mode": {
    "name": "ipython",
    "version": 3
   },
   "file_extension": ".py",
   "mimetype": "text/x-python",
   "name": "python",
   "nbconvert_exporter": "python",
   "pygments_lexer": "ipython3",
   "version": "3.8.2"
  }
 },
 "nbformat": 4,
 "nbformat_minor": 5
}
